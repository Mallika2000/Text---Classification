{
 "cells": [
  {
   "cell_type": "code",
   "execution_count": 1,
   "id": "b0a83425",
   "metadata": {},
   "outputs": [],
   "source": [
    "import numpy as np\n",
    "import pandas as pd"
   ]
  },
  {
   "cell_type": "code",
   "execution_count": 2,
   "id": "18eb74bd",
   "metadata": {},
   "outputs": [],
   "source": [
    "def fit(X_train,Y_train):\n",
    "    result = {}\n",
    "    result[\"total_data\"] = len(Y_train)\n",
    "    class_number = set(Y_train)\n",
    "    \n",
    "    for class_val in class_number:\n",
    "        result[class_val] = {}\n",
    "        feature_number = X_train.shape[1]\n",
    "        result[class_val][\"total_count\"] = len(Y_train[Y_train==class_val])\n",
    "        \n",
    "        for j in range(1,1+feature_number):\n",
    "            result[class_val][j] = {}\n",
    "            feature_val = set(X_train[:,j-1])\n",
    "            \n",
    "            for k in feature_val:\n",
    "                rows_required = Y_train[Y_train==class_val]\n",
    "                result[class_val][j][k] = (X_train[Y_train==class_val][:,j-1] == k).sum()\n",
    "    \n",
    "    return result     "
   ]
  },
  {
   "cell_type": "code",
   "execution_count": 3,
   "id": "72475c55",
   "metadata": {},
   "outputs": [],
   "source": [
    "def probability(result,x,ai):\n",
    "    p_ai = np.log(result[ai][\"total_count\"]) - np.log(result[\"total_data\"])\n",
    "    \n",
    "    p_x = 0\n",
    "    feature_number = 1\n",
    "    for f in x:\n",
    "        p_x = p_x + np.log(((result[ai][feature_number][f] + 1)))-np.log((result[ai][\"total_count\"] + len(result[ai][feature_number].keys())))\n",
    "        feature_number+=1\n",
    "    \n",
    "    p_total = p_ai+p_x\n",
    "    return p_total"
   ]
  },
  {
   "cell_type": "code",
   "execution_count": 4,
   "id": "06c022a1",
   "metadata": {},
   "outputs": [],
   "source": [
    "def PredictSinglePoint(result,x):\n",
    "    classes = result.keys()\n",
    "    best_p = -1000\n",
    "    best_class = -1\n",
    "    first_run = True\n",
    "    \n",
    "    for curr_class in classes:\n",
    "        if(curr_class==\"total_data\"):\n",
    "            continue\n",
    "        curr_probability = probability(result,x,curr_class)\n",
    "        if(first_run or best_p<curr_probability):\n",
    "            best_p = curr_probability\n",
    "            best_class = curr_class\n",
    "            first_run = False\n",
    "    return best_class"
   ]
  },
  {
   "cell_type": "code",
   "execution_count": 5,
   "id": "4c294f66",
   "metadata": {},
   "outputs": [],
   "source": [
    "def predict(result, X_test):\n",
    "    Y_pred = []\n",
    "    for x in X_test:\n",
    "        x_class = PredictSinglePoint(result,x)\n",
    "        Y_pred.append(x_class)\n",
    "    \n",
    "    return Y_pred"
   ]
  },
  {
   "cell_type": "code",
   "execution_count": 6,
   "id": "50a639ff",
   "metadata": {},
   "outputs": [],
   "source": [
    "from sklearn import datasets\n",
    "iris = datasets.load_breast_cancer()\n",
    "X = iris.data\n",
    "Y = iris.target"
   ]
  },
  {
   "cell_type": "code",
   "execution_count": 7,
   "id": "8ab4381e",
   "metadata": {},
   "outputs": [],
   "source": [
    "def LabelData(col):\n",
    "    first = 0.5*np.mean(col)\n",
    "    second = np.mean(col)\n",
    "    third = 1.5*np.mean(col)\n",
    "    \n",
    "    for i in range(len(col)):\n",
    "        if(col[i]<first):\n",
    "            col[i] = 0\n",
    "        elif(col[i]<second):\n",
    "            col[i] = 1\n",
    "        elif(col[i]<third):\n",
    "            col[i] = 2\n",
    "        else:\n",
    "            col[i] = 3\n",
    "    return col"
   ]
  },
  {
   "cell_type": "code",
   "execution_count": 8,
   "id": "b067127d",
   "metadata": {},
   "outputs": [],
   "source": [
    "for i in range(X.shape[1]):\n",
    "    X[:,i] = LabelData(X[:,i])"
   ]
  },
  {
   "cell_type": "code",
   "execution_count": 9,
   "id": "82a107c9",
   "metadata": {},
   "outputs": [],
   "source": [
    "from sklearn.model_selection import train_test_split\n",
    "X_train, X_test, Y_train, Y_test = train_test_split(X,Y,random_state=0)"
   ]
  },
  {
   "cell_type": "code",
   "execution_count": 10,
   "id": "411cdef6",
   "metadata": {},
   "outputs": [],
   "source": [
    "result = fit(X_train, Y_train)"
   ]
  },
  {
   "cell_type": "code",
   "execution_count": 11,
   "id": "73a35eb2",
   "metadata": {},
   "outputs": [],
   "source": [
    "Y_pred = predict(result, X_test)"
   ]
  },
  {
   "cell_type": "code",
   "execution_count": 12,
   "id": "33dca51e",
   "metadata": {},
   "outputs": [
    {
     "name": "stdout",
     "output_type": "stream",
     "text": [
      "              precision    recall  f1-score   support\n",
      "\n",
      "           0       0.86      0.92      0.89        53\n",
      "           1       0.95      0.91      0.93        90\n",
      "\n",
      "    accuracy                           0.92       143\n",
      "   macro avg       0.91      0.92      0.91       143\n",
      "weighted avg       0.92      0.92      0.92       143\n",
      "\n"
     ]
    },
    {
     "data": {
      "text/plain": [
       "array([[49,  4],\n",
       "       [ 8, 82]], dtype=int64)"
      ]
     },
     "execution_count": 12,
     "metadata": {},
     "output_type": "execute_result"
    }
   ],
   "source": [
    "from sklearn.metrics import confusion_matrix, classification_report\n",
    "print(classification_report(Y_test,Y_pred))\n",
    "confusion_matrix(Y_test,Y_pred)"
   ]
  },
  {
   "cell_type": "code",
   "execution_count": 13,
   "id": "2e7fe629",
   "metadata": {},
   "outputs": [
    {
     "data": {
      "text/plain": [
       "3"
      ]
     },
     "execution_count": 13,
     "metadata": {},
     "output_type": "execute_result"
    }
   ],
   "source": [
    "a=np.array([[1,2,3,4],[5,2,7,8],[9,2,11,12],[13,14,15,16]])\n",
    "b = np.array([1,1,1,0])\n",
    "(a[b==1][:,1]==2).sum()"
   ]
  },
  {
   "cell_type": "code",
   "execution_count": 14,
   "id": "4a1d11d7",
   "metadata": {},
   "outputs": [
    {
     "name": "stdout",
     "output_type": "stream",
     "text": [
      "              precision    recall  f1-score   support\n",
      "\n",
      "           0       0.83      0.94      0.88        53\n",
      "           1       0.96      0.89      0.92        90\n",
      "\n",
      "    accuracy                           0.91       143\n",
      "   macro avg       0.90      0.92      0.90       143\n",
      "weighted avg       0.92      0.91      0.91       143\n",
      "\n"
     ]
    },
    {
     "data": {
      "text/plain": [
       "array([[50,  3],\n",
       "       [10, 80]], dtype=int64)"
      ]
     },
     "execution_count": 14,
     "metadata": {},
     "output_type": "execute_result"
    }
   ],
   "source": [
    "from sklearn.naive_bayes import GaussianNB,BernoulliNB, MultinomialNB\n",
    "clf = MultinomialNB()\n",
    "clf.fit(X_train,Y_train)\n",
    "Y_pre_NB = clf.predict(X_test)\n",
    "print(classification_report(Y_test,Y_pre_NB))\n",
    "confusion_matrix(Y_test,Y_pre_NB)"
   ]
  }
 ],
 "metadata": {
  "kernelspec": {
   "display_name": "Python 3",
   "language": "python",
   "name": "python3"
  },
  "language_info": {
   "codemirror_mode": {
    "name": "ipython",
    "version": 3
   },
   "file_extension": ".py",
   "mimetype": "text/x-python",
   "name": "python",
   "nbconvert_exporter": "python",
   "pygments_lexer": "ipython3",
   "version": "3.8.8"
  }
 },
 "nbformat": 4,
 "nbformat_minor": 5
}
